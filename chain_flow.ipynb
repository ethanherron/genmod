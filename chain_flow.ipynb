{
 "cells": [
  {
   "cell_type": "code",
   "execution_count": 1,
   "metadata": {},
   "outputs": [],
   "source": [
    "import torch, os\n",
    "import torch.nn as nn\n",
    "import torch.nn.functional as F\n",
    "from torch.utils import data\n",
    "import matplotlib.pyplot as plt\n",
    "from tqdm import tqdm\n",
    "from einops import rearrange, repeat\n",
    "import copy\n",
    "import numpy as np\n",
    "\n",
    "from modules.networks.unet_chain import UNetModelChainFlow\n",
    "\n",
    "os.environ[\"CUDA_VISIBLE_DEVICES\"] = \"1\"  # Use only the first GPU\n",
    "use_cuda = torch.cuda.is_available()\n",
    "device = torch.device(\"cuda\" if use_cuda else \"cpu\")\n",
    "\n",
    "class CFDataset(data.Dataset):\n",
    "    \"\"\"\n",
    "    Class to read the numpy dataset for the microstructure\n",
    "    \"\"\"\n",
    "    def __init__(self, data_path='./chain_flow_mnist.npz'):\n",
    "        self.trajectory = np.load(data_path)['arr_0']\n",
    "\n",
    "    def __len__(self):\n",
    "        return self.trajectory.shape[0]\n",
    "\n",
    "    def __getitem__(self, index):\n",
    "        return torch.FloatTensor(self.trajectory[index])\n",
    "    \n",
    "train_dataset = CFDataset()\n",
    "\n",
    "train_loader = torch.utils.data.DataLoader(train_dataset,\n",
    "                                           batch_size=256,\n",
    "                                           shuffle=True,\n",
    "                                           num_workers=1\n",
    "                                           )\n",
    "\n",
    "def pad(tensor):\n",
    "    return repeat(tensor, 'b -> b 1 1 1')"
   ]
  },
  {
   "cell_type": "code",
   "execution_count": 16,
   "metadata": {},
   "outputs": [],
   "source": [
    "class ChainFlow():\n",
    "    def __init__(self, model=None, device=None, n_trajectory=None, nfe=None):\n",
    "        self.device = device\n",
    "        self.model = model.to(self.device)\n",
    "        self.N = n_trajectory\n",
    "        self.nfe = nfe\n",
    "        \n",
    "    def get_train_tuple(self, batch):\n",
    "        n = torch.randint(low=0, high=self.N-1, size=(batch.shape[0],))\n",
    "        range_indices = torch.arange(batch.shape[0])\n",
    "        x0 = batch[range_indices, n, :, :, :]\n",
    "        x1 = batch[range_indices, n+1, :, :, :]\n",
    "        t = torch.rand((batch.shape[0],)).to(self.device)\n",
    "        xt = pad(t) * x1 + (1. - pad(t)) * x0\n",
    "        target = x1 - x0\n",
    "        n = (n / self.N).type(t.dtype).to(self.device)\n",
    "        return xt, t, n, target\n",
    "    \n",
    "    def chainflow_loss(self, batch):\n",
    "        xt, t, n, target = self.get_train_tuple(batch)\n",
    "        \n",
    "        pred = self.model(xt, t, n)\n",
    "        \n",
    "        loss = F.mse_loss(pred, target)\n",
    "        \n",
    "        return loss\n",
    "        \n",
    "    @torch.no_grad()\n",
    "    def sample_chainflow_ode(self, batch):\n",
    "        dt = 1./self.nfe\n",
    "        x0 = batch[:,0,:,:,:]\n",
    "        x = x0.detach().clone().to(self.device)\n",
    "        \n",
    "        trajectory = [x]\n",
    "        sub_trajectory = [x]\n",
    "        \n",
    "        for i in range(self.N):\n",
    "            n = (torch.ones((batch.shape[0],)) * (i / self.N)).to(self.device)\n",
    "            for j in range(self.nfe):\n",
    "                t = (torch.ones((batch.shape[0],)) * (j * dt)).to(self.device)\n",
    "                velocity = self.model(x, t, n)\n",
    "                x = x + velocity * dt\n",
    "                sub_trajectory.append(x)\n",
    "            trajectory.append(x)\n",
    "                \n",
    "        return trajectory, sub_trajectory"
   ]
  },
  {
   "cell_type": "code",
   "execution_count": 17,
   "metadata": {},
   "outputs": [],
   "source": [
    "def train_chainflow(data_loader, chainflow, opt, device):\n",
    "    chainflow.model.train()\n",
    "    running_loss = 0.0\n",
    "    for data in data_loader:\n",
    "        data = data.to(device)\n",
    "        \n",
    "        loss = chainflow.chainflow_loss(data)\n",
    "        \n",
    "        loss.backward()\n",
    "        opt.step()\n",
    "        opt.zero_grad()\n",
    "        running_loss += loss.item()\n",
    "    avg_loss = running_loss / len(data_loader)\n",
    "    return avg_loss"
   ]
  },
  {
   "cell_type": "code",
   "execution_count": 20,
   "metadata": {},
   "outputs": [
    {
     "name": "stdout",
     "output_type": "stream",
     "text": [
      "Number of parameters:  3806113\n"
     ]
    },
    {
     "name": "stderr",
     "output_type": "stream",
     "text": [
      "  1%|          | 1/100 [00:03<05:10,  3.14s/it]"
     ]
    },
    {
     "name": "stdout",
     "output_type": "stream",
     "text": [
      "loss from epoch  0 :  0.13962212788022083\n"
     ]
    },
    {
     "name": "stderr",
     "output_type": "stream",
     "text": [
      "  2%|▏         | 2/100 [00:06<05:08,  3.14s/it]"
     ]
    },
    {
     "name": "stdout",
     "output_type": "stream",
     "text": [
      "loss from epoch  1 :  0.13699510045673535\n"
     ]
    },
    {
     "name": "stderr",
     "output_type": "stream",
     "text": [
      "  3%|▎         | 3/100 [00:09<05:04,  3.14s/it]"
     ]
    },
    {
     "name": "stdout",
     "output_type": "stream",
     "text": [
      "loss from epoch  2 :  0.12629857238220132\n"
     ]
    },
    {
     "name": "stderr",
     "output_type": "stream",
     "text": [
      "  4%|▍         | 4/100 [00:12<05:01,  3.14s/it]"
     ]
    },
    {
     "name": "stdout",
     "output_type": "stream",
     "text": [
      "loss from epoch  3 :  0.11098499920057214\n"
     ]
    },
    {
     "name": "stderr",
     "output_type": "stream",
     "text": [
      "  5%|▌         | 5/100 [00:15<04:58,  3.14s/it]"
     ]
    },
    {
     "name": "stdout",
     "output_type": "stream",
     "text": [
      "loss from epoch  4 :  0.1032343859905782\n"
     ]
    },
    {
     "name": "stderr",
     "output_type": "stream",
     "text": [
      "  6%|▌         | 6/100 [00:18<04:55,  3.15s/it]"
     ]
    },
    {
     "name": "stdout",
     "output_type": "stream",
     "text": [
      "loss from epoch  5 :  0.07087251754558604\n"
     ]
    },
    {
     "name": "stderr",
     "output_type": "stream",
     "text": [
      "  7%|▋         | 7/100 [00:22<04:53,  3.16s/it]"
     ]
    },
    {
     "name": "stdout",
     "output_type": "stream",
     "text": [
      "loss from epoch  6 :  0.048451732844114304\n"
     ]
    },
    {
     "name": "stderr",
     "output_type": "stream",
     "text": [
      "  8%|▊         | 8/100 [00:25<04:51,  3.17s/it]"
     ]
    },
    {
     "name": "stdout",
     "output_type": "stream",
     "text": [
      "loss from epoch  7 :  0.04002728151238483\n"
     ]
    },
    {
     "name": "stderr",
     "output_type": "stream",
     "text": [
      "  9%|▉         | 9/100 [00:28<04:48,  3.17s/it]"
     ]
    },
    {
     "name": "stdout",
     "output_type": "stream",
     "text": [
      "loss from epoch  8 :  0.036092886134334236\n"
     ]
    },
    {
     "name": "stderr",
     "output_type": "stream",
     "text": [
      " 10%|█         | 10/100 [00:31<04:45,  3.17s/it]"
     ]
    },
    {
     "name": "stdout",
     "output_type": "stream",
     "text": [
      "loss from epoch  9 :  0.03177897211002267\n"
     ]
    },
    {
     "name": "stderr",
     "output_type": "stream",
     "text": [
      " 11%|█         | 11/100 [00:34<04:42,  3.18s/it]"
     ]
    },
    {
     "name": "stdout",
     "output_type": "stream",
     "text": [
      "loss from epoch  10 :  0.030259753374949745\n"
     ]
    },
    {
     "name": "stderr",
     "output_type": "stream",
     "text": [
      " 12%|█▏        | 12/100 [00:37<04:39,  3.18s/it]"
     ]
    },
    {
     "name": "stdout",
     "output_type": "stream",
     "text": [
      "loss from epoch  11 :  0.028119145204191624\n"
     ]
    },
    {
     "name": "stderr",
     "output_type": "stream",
     "text": [
      " 13%|█▎        | 13/100 [00:41<04:36,  3.18s/it]"
     ]
    },
    {
     "name": "stdout",
     "output_type": "stream",
     "text": [
      "loss from epoch  12 :  0.02642589758919633\n"
     ]
    },
    {
     "name": "stderr",
     "output_type": "stream",
     "text": [
      " 14%|█▍        | 14/100 [00:44<04:35,  3.20s/it]"
     ]
    },
    {
     "name": "stdout",
     "output_type": "stream",
     "text": [
      "loss from epoch  13 :  0.024997941906685413\n"
     ]
    },
    {
     "name": "stderr",
     "output_type": "stream",
     "text": [
      " 15%|█▌        | 15/100 [00:47<04:34,  3.22s/it]"
     ]
    },
    {
     "name": "stdout",
     "output_type": "stream",
     "text": [
      "loss from epoch  14 :  0.024980736086549965\n"
     ]
    },
    {
     "name": "stderr",
     "output_type": "stream",
     "text": [
      " 16%|█▌        | 16/100 [00:50<04:29,  3.21s/it]"
     ]
    },
    {
     "name": "stdout",
     "output_type": "stream",
     "text": [
      "loss from epoch  15 :  0.023708232314042423\n"
     ]
    },
    {
     "name": "stderr",
     "output_type": "stream",
     "text": [
      " 17%|█▋        | 17/100 [00:54<04:25,  3.20s/it]"
     ]
    },
    {
     "name": "stdout",
     "output_type": "stream",
     "text": [
      "loss from epoch  16 :  0.0230154353801323\n"
     ]
    },
    {
     "name": "stderr",
     "output_type": "stream",
     "text": [
      " 18%|█▊        | 18/100 [00:57<04:22,  3.20s/it]"
     ]
    },
    {
     "name": "stdout",
     "output_type": "stream",
     "text": [
      "loss from epoch  17 :  0.021800010910500652\n"
     ]
    },
    {
     "name": "stderr",
     "output_type": "stream",
     "text": [
      " 19%|█▉        | 19/100 [01:00<04:20,  3.21s/it]"
     ]
    },
    {
     "name": "stdout",
     "output_type": "stream",
     "text": [
      "loss from epoch  18 :  0.02156978440673455\n"
     ]
    },
    {
     "name": "stderr",
     "output_type": "stream",
     "text": [
      " 20%|██        | 20/100 [01:03<04:19,  3.24s/it]"
     ]
    },
    {
     "name": "stdout",
     "output_type": "stream",
     "text": [
      "loss from epoch  19 :  0.021366939920446148\n"
     ]
    },
    {
     "name": "stderr",
     "output_type": "stream",
     "text": [
      " 21%|██        | 21/100 [01:07<04:15,  3.24s/it]"
     ]
    },
    {
     "name": "stdout",
     "output_type": "stream",
     "text": [
      "loss from epoch  20 :  0.023668954148888588\n"
     ]
    },
    {
     "name": "stderr",
     "output_type": "stream",
     "text": [
      " 22%|██▏       | 22/100 [01:10<04:12,  3.24s/it]"
     ]
    },
    {
     "name": "stdout",
     "output_type": "stream",
     "text": [
      "loss from epoch  21 :  0.01963657934380614\n"
     ]
    },
    {
     "name": "stderr",
     "output_type": "stream",
     "text": [
      " 23%|██▎       | 23/100 [01:13<04:11,  3.26s/it]"
     ]
    },
    {
     "name": "stdout",
     "output_type": "stream",
     "text": [
      "loss from epoch  22 :  0.019031154639695003\n"
     ]
    },
    {
     "name": "stderr",
     "output_type": "stream",
     "text": [
      " 24%|██▍       | 24/100 [01:16<04:07,  3.26s/it]"
     ]
    },
    {
     "name": "stdout",
     "output_type": "stream",
     "text": [
      "loss from epoch  23 :  0.018608919142381004\n"
     ]
    },
    {
     "name": "stderr",
     "output_type": "stream",
     "text": [
      " 25%|██▌       | 25/100 [01:20<04:04,  3.26s/it]"
     ]
    },
    {
     "name": "stdout",
     "output_type": "stream",
     "text": [
      "loss from epoch  24 :  0.019058962878973587\n"
     ]
    },
    {
     "name": "stderr",
     "output_type": "stream",
     "text": [
      " 26%|██▌       | 26/100 [01:23<04:00,  3.25s/it]"
     ]
    },
    {
     "name": "stdout",
     "output_type": "stream",
     "text": [
      "loss from epoch  25 :  0.0175999296910089\n"
     ]
    },
    {
     "name": "stderr",
     "output_type": "stream",
     "text": [
      " 27%|██▋       | 27/100 [01:26<03:57,  3.26s/it]"
     ]
    },
    {
     "name": "stdout",
     "output_type": "stream",
     "text": [
      "loss from epoch  26 :  0.016254994977751503\n"
     ]
    },
    {
     "name": "stderr",
     "output_type": "stream",
     "text": [
      " 28%|██▊       | 28/100 [01:29<03:56,  3.29s/it]"
     ]
    },
    {
     "name": "stdout",
     "output_type": "stream",
     "text": [
      "loss from epoch  27 :  0.016165841370821\n"
     ]
    },
    {
     "name": "stderr",
     "output_type": "stream",
     "text": [
      " 29%|██▉       | 29/100 [01:33<03:54,  3.31s/it]"
     ]
    },
    {
     "name": "stdout",
     "output_type": "stream",
     "text": [
      "loss from epoch  28 :  0.016243187508181385\n"
     ]
    },
    {
     "name": "stderr",
     "output_type": "stream",
     "text": [
      " 30%|███       | 30/100 [01:36<03:50,  3.29s/it]"
     ]
    },
    {
     "name": "stdout",
     "output_type": "stream",
     "text": [
      "loss from epoch  29 :  0.016286166303831597\n"
     ]
    },
    {
     "name": "stderr",
     "output_type": "stream",
     "text": [
      " 31%|███       | 31/100 [01:39<03:45,  3.27s/it]"
     ]
    },
    {
     "name": "stdout",
     "output_type": "stream",
     "text": [
      "loss from epoch  30 :  0.01607454317095487\n"
     ]
    },
    {
     "name": "stderr",
     "output_type": "stream",
     "text": [
      " 32%|███▏      | 32/100 [01:43<03:42,  3.28s/it]"
     ]
    },
    {
     "name": "stdout",
     "output_type": "stream",
     "text": [
      "loss from epoch  31 :  0.015455599712288898\n"
     ]
    },
    {
     "name": "stderr",
     "output_type": "stream",
     "text": [
      " 33%|███▎      | 33/100 [01:46<03:40,  3.30s/it]"
     ]
    },
    {
     "name": "stdout",
     "output_type": "stream",
     "text": [
      "loss from epoch  32 :  0.015117307315054148\n"
     ]
    },
    {
     "name": "stderr",
     "output_type": "stream",
     "text": [
      " 34%|███▍      | 34/100 [01:49<03:36,  3.28s/it]"
     ]
    },
    {
     "name": "stdout",
     "output_type": "stream",
     "text": [
      "loss from epoch  33 :  0.014969815540572872\n"
     ]
    },
    {
     "name": "stderr",
     "output_type": "stream",
     "text": [
      " 35%|███▌      | 35/100 [01:52<03:32,  3.27s/it]"
     ]
    },
    {
     "name": "stdout",
     "output_type": "stream",
     "text": [
      "loss from epoch  34 :  0.014712455479995064\n"
     ]
    },
    {
     "name": "stderr",
     "output_type": "stream",
     "text": [
      " 36%|███▌      | 36/100 [01:56<03:29,  3.27s/it]"
     ]
    },
    {
     "name": "stdout",
     "output_type": "stream",
     "text": [
      "loss from epoch  35 :  0.014626354262556719\n"
     ]
    },
    {
     "name": "stderr",
     "output_type": "stream",
     "text": [
      " 37%|███▋      | 37/100 [01:59<03:26,  3.27s/it]"
     ]
    },
    {
     "name": "stdout",
     "output_type": "stream",
     "text": [
      "loss from epoch  36 :  0.014930224815464539\n"
     ]
    },
    {
     "name": "stderr",
     "output_type": "stream",
     "text": [
      " 38%|███▊      | 38/100 [02:02<03:22,  3.27s/it]"
     ]
    },
    {
     "name": "stdout",
     "output_type": "stream",
     "text": [
      "loss from epoch  37 :  0.014359329867622127\n"
     ]
    },
    {
     "name": "stderr",
     "output_type": "stream",
     "text": [
      " 39%|███▉      | 39/100 [02:05<03:19,  3.27s/it]"
     ]
    },
    {
     "name": "stdout",
     "output_type": "stream",
     "text": [
      "loss from epoch  38 :  0.013442032120150068\n"
     ]
    },
    {
     "name": "stderr",
     "output_type": "stream",
     "text": [
      " 40%|████      | 40/100 [02:09<03:16,  3.27s/it]"
     ]
    },
    {
     "name": "stdout",
     "output_type": "stream",
     "text": [
      "loss from epoch  39 :  0.013320312065922695\n"
     ]
    },
    {
     "name": "stderr",
     "output_type": "stream",
     "text": [
      " 41%|████      | 41/100 [02:12<03:13,  3.27s/it]"
     ]
    },
    {
     "name": "stdout",
     "output_type": "stream",
     "text": [
      "loss from epoch  40 :  0.014139367550935434\n"
     ]
    },
    {
     "name": "stderr",
     "output_type": "stream",
     "text": [
      " 42%|████▏     | 42/100 [02:15<03:09,  3.27s/it]"
     ]
    },
    {
     "name": "stdout",
     "output_type": "stream",
     "text": [
      "loss from epoch  41 :  0.013846350914758184\n"
     ]
    },
    {
     "name": "stderr",
     "output_type": "stream",
     "text": [
      " 43%|████▎     | 43/100 [02:19<03:05,  3.25s/it]"
     ]
    },
    {
     "name": "stdout",
     "output_type": "stream",
     "text": [
      "loss from epoch  42 :  0.012801571627673895\n"
     ]
    },
    {
     "name": "stderr",
     "output_type": "stream",
     "text": [
      " 44%|████▍     | 44/100 [02:22<03:01,  3.24s/it]"
     ]
    },
    {
     "name": "stdout",
     "output_type": "stream",
     "text": [
      "loss from epoch  43 :  0.013092091954920603\n"
     ]
    },
    {
     "name": "stderr",
     "output_type": "stream",
     "text": [
      " 45%|████▌     | 45/100 [02:25<02:58,  3.24s/it]"
     ]
    },
    {
     "name": "stdout",
     "output_type": "stream",
     "text": [
      "loss from epoch  44 :  0.013632454342492249\n"
     ]
    },
    {
     "name": "stderr",
     "output_type": "stream",
     "text": [
      " 46%|████▌     | 46/100 [02:28<02:55,  3.25s/it]"
     ]
    },
    {
     "name": "stdout",
     "output_type": "stream",
     "text": [
      "loss from epoch  45 :  0.014709588180741539\n"
     ]
    },
    {
     "name": "stderr",
     "output_type": "stream",
     "text": [
      " 47%|████▋     | 47/100 [02:32<02:53,  3.27s/it]"
     ]
    },
    {
     "name": "stdout",
     "output_type": "stream",
     "text": [
      "loss from epoch  46 :  0.012540131240435268\n"
     ]
    },
    {
     "name": "stderr",
     "output_type": "stream",
     "text": [
      " 48%|████▊     | 48/100 [02:35<02:50,  3.27s/it]"
     ]
    },
    {
     "name": "stdout",
     "output_type": "stream",
     "text": [
      "loss from epoch  47 :  0.012092343086133833\n"
     ]
    },
    {
     "name": "stderr",
     "output_type": "stream",
     "text": [
      " 49%|████▉     | 49/100 [02:38<02:46,  3.27s/it]"
     ]
    },
    {
     "name": "stdout",
     "output_type": "stream",
     "text": [
      "loss from epoch  48 :  0.012272894301492235\n"
     ]
    },
    {
     "name": "stderr",
     "output_type": "stream",
     "text": [
      " 50%|█████     | 50/100 [02:41<02:43,  3.27s/it]"
     ]
    },
    {
     "name": "stdout",
     "output_type": "stream",
     "text": [
      "loss from epoch  49 :  0.012088052806970865\n"
     ]
    },
    {
     "name": "stderr",
     "output_type": "stream",
     "text": [
      " 51%|█████     | 51/100 [02:45<02:40,  3.27s/it]"
     ]
    },
    {
     "name": "stdout",
     "output_type": "stream",
     "text": [
      "loss from epoch  50 :  0.011903947016791157\n"
     ]
    },
    {
     "name": "stderr",
     "output_type": "stream",
     "text": [
      " 52%|█████▏    | 52/100 [02:48<02:37,  3.27s/it]"
     ]
    },
    {
     "name": "stdout",
     "output_type": "stream",
     "text": [
      "loss from epoch  51 :  0.011701216880718002\n"
     ]
    },
    {
     "name": "stderr",
     "output_type": "stream",
     "text": [
      " 53%|█████▎    | 53/100 [02:51<02:33,  3.27s/it]"
     ]
    },
    {
     "name": "stdout",
     "output_type": "stream",
     "text": [
      "loss from epoch  52 :  0.011732535436749458\n"
     ]
    },
    {
     "name": "stderr",
     "output_type": "stream",
     "text": [
      " 54%|█████▍    | 54/100 [02:54<02:30,  3.27s/it]"
     ]
    },
    {
     "name": "stdout",
     "output_type": "stream",
     "text": [
      "loss from epoch  53 :  0.011348412372171879\n"
     ]
    },
    {
     "name": "stderr",
     "output_type": "stream",
     "text": [
      " 55%|█████▌    | 55/100 [02:58<02:26,  3.27s/it]"
     ]
    },
    {
     "name": "stdout",
     "output_type": "stream",
     "text": [
      "loss from epoch  54 :  0.010995560811589594\n"
     ]
    },
    {
     "name": "stderr",
     "output_type": "stream",
     "text": [
      " 56%|█████▌    | 56/100 [03:01<02:23,  3.27s/it]"
     ]
    },
    {
     "name": "stdout",
     "output_type": "stream",
     "text": [
      "loss from epoch  55 :  0.011208296186574127\n"
     ]
    },
    {
     "name": "stderr",
     "output_type": "stream",
     "text": [
      " 57%|█████▋    | 57/100 [03:04<02:20,  3.26s/it]"
     ]
    },
    {
     "name": "stdout",
     "output_type": "stream",
     "text": [
      "loss from epoch  56 :  0.01135281157558379\n"
     ]
    },
    {
     "name": "stderr",
     "output_type": "stream",
     "text": [
      " 58%|█████▊    | 58/100 [03:07<02:16,  3.25s/it]"
     ]
    },
    {
     "name": "stdout",
     "output_type": "stream",
     "text": [
      "loss from epoch  57 :  0.01693146655578976\n"
     ]
    },
    {
     "name": "stderr",
     "output_type": "stream",
     "text": [
      " 59%|█████▉    | 59/100 [03:11<02:12,  3.24s/it]"
     ]
    },
    {
     "name": "stdout",
     "output_type": "stream",
     "text": [
      "loss from epoch  58 :  0.012977788022354893\n"
     ]
    },
    {
     "name": "stderr",
     "output_type": "stream",
     "text": [
      " 60%|██████    | 60/100 [03:14<02:09,  3.25s/it]"
     ]
    },
    {
     "name": "stdout",
     "output_type": "stream",
     "text": [
      "loss from epoch  59 :  0.010950179284681444\n"
     ]
    },
    {
     "name": "stderr",
     "output_type": "stream",
     "text": [
      " 61%|██████    | 61/100 [03:17<02:06,  3.25s/it]"
     ]
    },
    {
     "name": "stdout",
     "output_type": "stream",
     "text": [
      "loss from epoch  60 :  0.010767461651045343\n"
     ]
    },
    {
     "name": "stderr",
     "output_type": "stream",
     "text": [
      " 62%|██████▏   | 62/100 [03:20<02:03,  3.25s/it]"
     ]
    },
    {
     "name": "stdout",
     "output_type": "stream",
     "text": [
      "loss from epoch  61 :  0.01094959623625745\n"
     ]
    },
    {
     "name": "stderr",
     "output_type": "stream",
     "text": [
      " 63%|██████▎   | 63/100 [03:24<01:59,  3.24s/it]"
     ]
    },
    {
     "name": "stdout",
     "output_type": "stream",
     "text": [
      "loss from epoch  62 :  0.01137000702969406\n"
     ]
    },
    {
     "name": "stderr",
     "output_type": "stream",
     "text": [
      " 64%|██████▍   | 64/100 [03:27<01:56,  3.22s/it]"
     ]
    },
    {
     "name": "stdout",
     "output_type": "stream",
     "text": [
      "loss from epoch  63 :  0.010900785012737564\n"
     ]
    },
    {
     "name": "stderr",
     "output_type": "stream",
     "text": [
      " 65%|██████▌   | 65/100 [03:30<01:53,  3.24s/it]"
     ]
    },
    {
     "name": "stdout",
     "output_type": "stream",
     "text": [
      "loss from epoch  64 :  0.010402115588278874\n"
     ]
    },
    {
     "name": "stderr",
     "output_type": "stream",
     "text": [
      " 66%|██████▌   | 66/100 [03:33<01:50,  3.24s/it]"
     ]
    },
    {
     "name": "stdout",
     "output_type": "stream",
     "text": [
      "loss from epoch  65 :  0.010236933462969635\n"
     ]
    },
    {
     "name": "stderr",
     "output_type": "stream",
     "text": [
      " 67%|██████▋   | 67/100 [03:37<01:47,  3.24s/it]"
     ]
    },
    {
     "name": "stdout",
     "output_type": "stream",
     "text": [
      "loss from epoch  66 :  0.010695540670143522\n"
     ]
    },
    {
     "name": "stderr",
     "output_type": "stream",
     "text": [
      " 68%|██████▊   | 68/100 [03:40<01:42,  3.22s/it]"
     ]
    },
    {
     "name": "stdout",
     "output_type": "stream",
     "text": [
      "loss from epoch  67 :  0.010271401954409868\n"
     ]
    },
    {
     "name": "stderr",
     "output_type": "stream",
     "text": [
      " 69%|██████▉   | 69/100 [03:43<01:39,  3.21s/it]"
     ]
    },
    {
     "name": "stdout",
     "output_type": "stream",
     "text": [
      "loss from epoch  68 :  0.010671182333127312\n"
     ]
    },
    {
     "name": "stderr",
     "output_type": "stream",
     "text": [
      " 70%|███████   | 70/100 [03:46<01:36,  3.21s/it]"
     ]
    },
    {
     "name": "stdout",
     "output_type": "stream",
     "text": [
      "loss from epoch  69 :  0.010215735791817955\n"
     ]
    },
    {
     "name": "stderr",
     "output_type": "stream",
     "text": [
      " 71%|███████   | 71/100 [03:49<01:33,  3.21s/it]"
     ]
    },
    {
     "name": "stdout",
     "output_type": "stream",
     "text": [
      "loss from epoch  70 :  0.010339830070734024\n"
     ]
    },
    {
     "name": "stderr",
     "output_type": "stream",
     "text": [
      " 72%|███████▏  | 72/100 [03:53<01:29,  3.21s/it]"
     ]
    },
    {
     "name": "stdout",
     "output_type": "stream",
     "text": [
      "loss from epoch  71 :  0.00994705801586742\n"
     ]
    },
    {
     "name": "stderr",
     "output_type": "stream",
     "text": [
      " 73%|███████▎  | 73/100 [03:56<01:26,  3.21s/it]"
     ]
    },
    {
     "name": "stdout",
     "output_type": "stream",
     "text": [
      "loss from epoch  72 :  0.009829731698593368\n"
     ]
    },
    {
     "name": "stderr",
     "output_type": "stream",
     "text": [
      " 74%|███████▍  | 74/100 [03:59<01:23,  3.21s/it]"
     ]
    },
    {
     "name": "stdout",
     "output_type": "stream",
     "text": [
      "loss from epoch  73 :  0.009976010810097923\n"
     ]
    },
    {
     "name": "stderr",
     "output_type": "stream",
     "text": [
      " 75%|███████▌  | 75/100 [04:02<01:20,  3.23s/it]"
     ]
    },
    {
     "name": "stdout",
     "output_type": "stream",
     "text": [
      "loss from epoch  74 :  0.01010790418671525\n"
     ]
    },
    {
     "name": "stderr",
     "output_type": "stream",
     "text": [
      " 76%|███████▌  | 76/100 [04:05<01:17,  3.23s/it]"
     ]
    },
    {
     "name": "stdout",
     "output_type": "stream",
     "text": [
      "loss from epoch  75 :  0.009540010324638823\n"
     ]
    },
    {
     "name": "stderr",
     "output_type": "stream",
     "text": [
      " 77%|███████▋  | 77/100 [04:09<01:14,  3.23s/it]"
     ]
    },
    {
     "name": "stdout",
     "output_type": "stream",
     "text": [
      "loss from epoch  76 :  0.009563075823952322\n"
     ]
    },
    {
     "name": "stderr",
     "output_type": "stream",
     "text": [
      " 78%|███████▊  | 78/100 [04:12<01:11,  3.23s/it]"
     ]
    },
    {
     "name": "stdout",
     "output_type": "stream",
     "text": [
      "loss from epoch  77 :  0.009382640618992888\n"
     ]
    },
    {
     "name": "stderr",
     "output_type": "stream",
     "text": [
      " 79%|███████▉  | 79/100 [04:15<01:07,  3.23s/it]"
     ]
    },
    {
     "name": "stdout",
     "output_type": "stream",
     "text": [
      "loss from epoch  78 :  0.009238228971219582\n"
     ]
    },
    {
     "name": "stderr",
     "output_type": "stream",
     "text": [
      " 80%|████████  | 80/100 [04:18<01:04,  3.22s/it]"
     ]
    },
    {
     "name": "stdout",
     "output_type": "stream",
     "text": [
      "loss from epoch  79 :  0.009923411452251932\n"
     ]
    },
    {
     "name": "stderr",
     "output_type": "stream",
     "text": [
      " 81%|████████  | 81/100 [04:22<01:01,  3.22s/it]"
     ]
    },
    {
     "name": "stdout",
     "output_type": "stream",
     "text": [
      "loss from epoch  80 :  0.009690867453489614\n"
     ]
    },
    {
     "name": "stderr",
     "output_type": "stream",
     "text": [
      " 82%|████████▏ | 82/100 [04:25<00:57,  3.21s/it]"
     ]
    },
    {
     "name": "stdout",
     "output_type": "stream",
     "text": [
      "loss from epoch  81 :  0.009789126560739849\n"
     ]
    },
    {
     "name": "stderr",
     "output_type": "stream",
     "text": [
      " 83%|████████▎ | 83/100 [04:28<00:54,  3.21s/it]"
     ]
    },
    {
     "name": "stdout",
     "output_type": "stream",
     "text": [
      "loss from epoch  82 :  0.00961915041198549\n"
     ]
    },
    {
     "name": "stderr",
     "output_type": "stream",
     "text": [
      " 84%|████████▍ | 84/100 [04:31<00:51,  3.22s/it]"
     ]
    },
    {
     "name": "stdout",
     "output_type": "stream",
     "text": [
      "loss from epoch  83 :  0.009552198664649673\n"
     ]
    },
    {
     "name": "stderr",
     "output_type": "stream",
     "text": [
      " 85%|████████▌ | 85/100 [04:34<00:48,  3.21s/it]"
     ]
    },
    {
     "name": "stdout",
     "output_type": "stream",
     "text": [
      "loss from epoch  84 :  0.009966140774929005\n"
     ]
    },
    {
     "name": "stderr",
     "output_type": "stream",
     "text": [
      " 86%|████████▌ | 86/100 [04:38<00:44,  3.20s/it]"
     ]
    },
    {
     "name": "stdout",
     "output_type": "stream",
     "text": [
      "loss from epoch  85 :  0.010773449447815832\n"
     ]
    },
    {
     "name": "stderr",
     "output_type": "stream",
     "text": [
      " 87%|████████▋ | 87/100 [04:41<00:41,  3.20s/it]"
     ]
    },
    {
     "name": "stdout",
     "output_type": "stream",
     "text": [
      "loss from epoch  86 :  0.009530540252023417\n"
     ]
    },
    {
     "name": "stderr",
     "output_type": "stream",
     "text": [
      " 88%|████████▊ | 88/100 [04:44<00:38,  3.19s/it]"
     ]
    },
    {
     "name": "stdout",
     "output_type": "stream",
     "text": [
      "loss from epoch  87 :  0.009536570019048193\n"
     ]
    },
    {
     "name": "stderr",
     "output_type": "stream",
     "text": [
      " 89%|████████▉ | 89/100 [04:47<00:35,  3.19s/it]"
     ]
    },
    {
     "name": "stdout",
     "output_type": "stream",
     "text": [
      "loss from epoch  88 :  0.009297595764307873\n"
     ]
    },
    {
     "name": "stderr",
     "output_type": "stream",
     "text": [
      " 90%|█████████ | 90/100 [04:50<00:31,  3.19s/it]"
     ]
    },
    {
     "name": "stdout",
     "output_type": "stream",
     "text": [
      "loss from epoch  89 :  0.010193282576358837\n"
     ]
    },
    {
     "name": "stderr",
     "output_type": "stream",
     "text": [
      " 91%|█████████ | 91/100 [04:54<00:28,  3.19s/it]"
     ]
    },
    {
     "name": "stdout",
     "output_type": "stream",
     "text": [
      "loss from epoch  90 :  0.009920953772962093\n"
     ]
    },
    {
     "name": "stderr",
     "output_type": "stream",
     "text": [
      " 92%|█████████▏| 92/100 [04:57<00:25,  3.19s/it]"
     ]
    },
    {
     "name": "stdout",
     "output_type": "stream",
     "text": [
      "loss from epoch  91 :  0.009366072268913622\n"
     ]
    },
    {
     "name": "stderr",
     "output_type": "stream",
     "text": [
      " 93%|█████████▎| 93/100 [05:00<00:22,  3.20s/it]"
     ]
    },
    {
     "name": "stdout",
     "output_type": "stream",
     "text": [
      "loss from epoch  92 :  0.009431426129911257\n"
     ]
    },
    {
     "name": "stderr",
     "output_type": "stream",
     "text": [
      " 94%|█████████▍| 94/100 [05:03<00:19,  3.20s/it]"
     ]
    },
    {
     "name": "stdout",
     "output_type": "stream",
     "text": [
      "loss from epoch  93 :  0.009505850667862789\n"
     ]
    },
    {
     "name": "stderr",
     "output_type": "stream",
     "text": [
      " 95%|█████████▌| 95/100 [05:06<00:16,  3.20s/it]"
     ]
    },
    {
     "name": "stdout",
     "output_type": "stream",
     "text": [
      "loss from epoch  94 :  0.009642237959348637\n"
     ]
    },
    {
     "name": "stderr",
     "output_type": "stream",
     "text": [
      " 96%|█████████▌| 96/100 [05:10<00:12,  3.19s/it]"
     ]
    },
    {
     "name": "stdout",
     "output_type": "stream",
     "text": [
      "loss from epoch  95 :  0.009051208809504042\n"
     ]
    },
    {
     "name": "stderr",
     "output_type": "stream",
     "text": [
      " 97%|█████████▋| 97/100 [05:13<00:09,  3.20s/it]"
     ]
    },
    {
     "name": "stdout",
     "output_type": "stream",
     "text": [
      "loss from epoch  96 :  0.009634169911884743\n"
     ]
    },
    {
     "name": "stderr",
     "output_type": "stream",
     "text": [
      " 98%|█████████▊| 98/100 [05:16<00:06,  3.18s/it]"
     ]
    },
    {
     "name": "stdout",
     "output_type": "stream",
     "text": [
      "loss from epoch  97 :  0.009422211988788584\n"
     ]
    },
    {
     "name": "stderr",
     "output_type": "stream",
     "text": [
      " 99%|█████████▉| 99/100 [05:19<00:03,  3.18s/it]"
     ]
    },
    {
     "name": "stdout",
     "output_type": "stream",
     "text": [
      "loss from epoch  98 :  0.008634568131326334\n"
     ]
    },
    {
     "name": "stderr",
     "output_type": "stream",
     "text": [
      "100%|██████████| 100/100 [05:22<00:00,  3.23s/it]"
     ]
    },
    {
     "name": "stdout",
     "output_type": "stream",
     "text": [
      "loss from epoch  99 :  0.009856157976648083\n"
     ]
    },
    {
     "name": "stderr",
     "output_type": "stream",
     "text": [
      "\n"
     ]
    }
   ],
   "source": [
    "# Init all of our models\n",
    "model = UNetModelChainFlow()\n",
    "CF = ChainFlow(model=model, device=device, n_trajectory=10, nfe=500)\n",
    "\n",
    "print(\"Number of parameters: \", sum(p.numel() for p in model.parameters()))\n",
    "\n",
    "opt = torch.optim.AdamW(model.parameters(), lr=1e-4)\n",
    "\n",
    "for i in tqdm(range(100)):\n",
    "    loss_rec = train_chainflow(train_loader, CF, opt, device)\n",
    "    print('loss from epoch ', i, ': ', loss_rec)\n",
    "    \n",
    "# torch.save(model.state_dict(), '/data/edherron/genmod/rectified_flow_weights/rf_1.pt')"
   ]
  },
  {
   "cell_type": "code",
   "execution_count": 21,
   "metadata": {},
   "outputs": [
    {
     "data": {
      "image/png": "[encoded data removed]",
      "text/plain": [
       "<Figure size 2200x400 with 22 Axes>"
      ]
     },
     "metadata": {},
     "output_type": "display_data"
    }
   ],
   "source": [
    "x = train_dataset[:2]\n",
    "trajectory, sub_trajectory = CF.sample_chainflow_ode(x)\n",
    "\n",
    "fig, axes = plt.subplots(nrows=2, ncols=11, figsize=(22, 4))\n",
    "\n",
    "for i in range(11):\n",
    "    for j in range(2):\n",
    "        ax = axes[j, i]\n",
    "        ax.imshow(trajectory[i][j, 0].detach().cpu().numpy(), cmap='gray')\n",
    "        ax.axis('off')\n",
    "plt.tight_layout()\n",
    "plt.show()\n"
   ]
  },
  {
   "cell_type": "code",
   "execution_count": null,
   "metadata": {},
   "outputs": [],
   "source": [
    "x = train_dataset[:2]\n",
    "trajectory, sub_trajectory = CF.sample_chainflow_ode(x)\n",
    "\n",
    "# Assuming `data_list` is your list of tensors\n",
    "fig, axs = plt.subplots(1, 11, figsize=(20, 2))  # Adjust figsize as needed\n",
    "\n",
    "for i, ax in enumerate(axs.flat):\n",
    "    img = trajectory[i].reshape(28, 28).detach().cpu().numpy()  # Reshape tensor to 28x28 for visualization\n",
    "    ax.imshow(img, cmap='gray')  # Plot as grayscale image\n",
    "    ax.set_title(f'Index {i}')\n",
    "    ax.axis('off')\n",
    "\n",
    "plt.tight_layout()\n",
    "plt.show()\n"
   ]
  },
  {
   "cell_type": "code",
   "execution_count": null,
   "metadata": {},
   "outputs": [],
   "source": [
    "z = torch.randn((10, 1, 28, 28))\n",
    "trajectories = [RF.sample_ode(z0=z[i].unsqueeze(0)) for i in range(10)]\n",
    "\n",
    "# Set up the plot for 10 rows of trajectories, each with 11 time steps (same as the column convention)\n",
    "fig, axs = plt.subplots(10, 11, figsize=(20, 20))  # Adjust figsize as needed, ensure there's enough space\n",
    "\n",
    "for row, trajectory in enumerate(trajectories):\n",
    "    for col, ax in enumerate(axs[row]):\n",
    "        idx = col * 100  # Every 100th element as in the original convention\n",
    "        if idx < len(trajectory):\n",
    "            img = trajectory[idx].reshape(28, 28).detach().cpu().numpy()  # Reshape tensor to 28x28 for visualization\n",
    "            ax.imshow(img, cmap='gray')  # Plot as grayscale image\n",
    "            ax.set_title(f'Index {idx}')\n",
    "            ax.axis('off')\n",
    "        else:\n",
    "            ax.axis('off')  # Hide axes for plots beyond the list length\n",
    "\n",
    "plt.tight_layout()\n",
    "plt.show()"
   ]
  },
  {
   "cell_type": "code",
   "execution_count": null,
   "metadata": {},
   "outputs": [],
   "source": [
    "z = torch.randn((1, 1, 28, 28))\n",
    "trajectory = RF.sample_ode(z0 = z, N = 10)  # This should give a trajectory with 11 tensors including the initial condition\n",
    "\n",
    "# Assuming trajectory is your list of tensors with exactly 11 elements\n",
    "fig, axs = plt.subplots(1, 11, figsize=(20, 2))  # Adjust figsize as needed\n",
    "\n",
    "for idx, ax in enumerate(axs.flat):\n",
    "    if idx < len(trajectory):\n",
    "        img = trajectory[idx].reshape(28, 28).detach().cpu().numpy()  # Reshape tensor to 28x28 for visualization\n",
    "        ax.imshow(img, cmap='gray')  # Plot as grayscale image\n",
    "        ax.set_title(f'Step {idx}')\n",
    "        ax.axis('off')\n",
    "    else:\n",
    "        ax.axis('off')  # Hide axes for plots beyond the list length\n",
    "\n",
    "plt.tight_layout()\n",
    "plt.show()"
   ]
  },
  {
   "cell_type": "markdown",
   "metadata": {},
   "source": [
    "# Rectified Flow 2 model.\n",
    "Here we take the pretrained RF model above and fine tune it on DETERMINISTIC pairs of z_0 and z_1. By randomly sampling z_0 and generating a new sample z_1 with the sampled z_0. "
   ]
  },
  {
   "cell_type": "code",
   "execution_count": null,
   "metadata": {},
   "outputs": [],
   "source": [
    "z10 = []\n",
    "z11 = []\n",
    "\n",
    "for _ in range(100):  # The loop runs 10 times\n",
    "    z = torch.randn((512, 1, 28, 28))  # Generate a new z of the specified size\n",
    "    trajectory = RF.sample_ode(z0 = z, N = 10)  # Compute the trajectory\n",
    "\n",
    "    # Assuming the trajectory output is a list of 11 tensors for each z in the batch\n",
    "    z10.extend(trajectory[0])  # Extend z10 with the first tensors of each trajectory\n",
    "    z11.extend(trajectory[-1])  # Extend z11 with the last tensors of each trajectory\n",
    "\n",
    "# Check the lengths, should each be 10*512\n",
    "print(\"Length of z10:\", len(z10))\n",
    "print(\"Length of z11:\", len(z11))\n",
    "\n",
    "z10_tensor = torch.stack(z10)  # Stack all tensors in z10 to create one tensor\n",
    "z11_tensor = torch.stack(z11)  # Stack all tensors in z11 to create one tensor\n",
    "\n",
    "print(\"z10 tensor shape:\", z10_tensor.shape)\n",
    "print(\"z11 tensor shape:\", z11_tensor.shape)\n",
    "\n",
    "z1_pairs = torch.stack([z10_tensor, z11_tensor], dim=1)\n",
    "print(\"z1_pairs shape: \", z1_pairs.shape)"
   ]
  },
  {
   "cell_type": "code",
   "execution_count": null,
   "metadata": {},
   "outputs": [],
   "source": [
    "def train_rectified_flow_2(inner_iters, rectified_flow, opt, device):\n",
    "    rectified_flow.model.train()\n",
    "    running_loss = 0.0\n",
    "    for _ in tqdm(range(inner_iters)):\n",
    "        indices = torch.randperm(len(z10))[:256]\n",
    "        batch = z1_pairs[indices]\n",
    "        z0 = batch[:, 0].detach().clone()\n",
    "        z1 = batch[:, 1].detach().clone()\n",
    "        z0 = z0.to(device)\n",
    "        z1 = z1.to(device)\n",
    "        \n",
    "        z_t, t, target = rectified_flow.get_train_tuple(z0, z1)\n",
    "        \n",
    "        pred = rectified_flow.model(z_t, t)\n",
    "        \n",
    "        loss = F.mse_loss(pred, target)\n",
    "        \n",
    "        loss.backward()\n",
    "        opt.step()\n",
    "        opt.zero_grad()\n",
    "        running_loss += loss.item()\n",
    "    avg_loss = running_loss / len(z10)\n",
    "    return avg_loss"
   ]
  },
  {
   "cell_type": "code",
   "execution_count": null,
   "metadata": {},
   "outputs": [],
   "source": [
    "# Init all of our models\n",
    "model_rf2 = UNetModel()\n",
    "model_rf2.load_state_dict(torch.load('/data/edherron/genmod/rectified_flow_weights/rf_1.pt'))\n",
    "RF_2 = RectifiedFlow(model=model_rf2, device=device, num_steps=100)\n",
    "optimizer = torch.optim.Adam(RF_2.model.parameters(), lr=1e-4)\n",
    "\n",
    "loss_rec = train_rectified_flow_2(50, RF_2, optimizer, device)\n",
    "print('loss from epoch ', i, ': ', loss_rec)\n",
    "\n",
    "# torch.save(model_rf2.state_dict(), '/data/edherron/genmod/rectified_flow_weights/rf_2.pt')"
   ]
  },
  {
   "cell_type": "code",
   "execution_count": null,
   "metadata": {},
   "outputs": [],
   "source": [
    "z = torch.randn((1, 1, 28, 28))\n",
    "trajectory = RF_2.sample_ode(z0 = z, N = 10)  # This should give a trajectory with 11 tensors including the initial condition\n",
    "\n",
    "# Assuming trajectory is your list of tensors with exactly 11 elements\n",
    "fig, axs = plt.subplots(1, 11, figsize=(20, 2))  # Adjust figsize as needed\n",
    "\n",
    "for idx, ax in enumerate(axs.flat):\n",
    "    if idx < len(trajectory):\n",
    "        img = trajectory[idx].reshape(28, 28).detach().cpu().numpy()  # Reshape tensor to 28x28 for visualization\n",
    "        ax.imshow(img, cmap='gray')  # Plot as grayscale image\n",
    "        ax.set_title(f'Step {idx}')\n",
    "        ax.axis('off')\n",
    "    else:\n",
    "        ax.axis('off')  # Hide axes for plots beyond the list length\n",
    "\n",
    "plt.tight_layout()\n",
    "plt.show()"
   ]
  },
  {
   "cell_type": "code",
   "execution_count": null,
   "metadata": {},
   "outputs": [],
   "source": [
    "z = torch.randn((1, 1, 28, 28))\n",
    "trajectory = RF_2.sample_ode(z0 = z, N = 1)  # This should give a trajectory with 11 tensors including the initial condition\n",
    "\n",
    "# Assuming trajectory is your list of tensors with exactly 11 elements\n",
    "fig, axs = plt.subplots(1, 11, figsize=(20, 2))  # Adjust figsize as needed\n",
    "\n",
    "for idx, ax in enumerate(axs.flat):\n",
    "    if idx < len(trajectory):\n",
    "        img = trajectory[idx].reshape(28, 28).detach().cpu().numpy()  # Reshape tensor to 28x28 for visualization\n",
    "        ax.imshow(img, cmap='gray')  # Plot as grayscale image\n",
    "        ax.set_title(f'Step {idx}')\n",
    "        ax.axis('off')\n",
    "    else:\n",
    "        ax.axis('off')  # Hide axes for plots beyond the list length\n",
    "\n",
    "plt.tight_layout()\n",
    "plt.show()"
   ]
  },
  {
   "cell_type": "code",
   "execution_count": null,
   "metadata": {},
   "outputs": [],
   "source": [
    "# plot out velocities as well as trajectory\n",
    "z = torch.randn((1, 1, 28, 28))\n",
    "trajectory, velocities = RF_2.sample_ode(z0 = z, N = 10, return_velocities=True)  # This should give a trajectory with 11 tensors including the initial condition\n",
    "\n",
    "# Assuming trajectory and velocities are your lists of tensors\n",
    "fig, axs = plt.subplots(2, len(trajectory), figsize=(20, 4))  # Adjust figsize as needed\n",
    "\n",
    "for idx in range(len(trajectory)):\n",
    "    # Plot trajectory tensors in the top row\n",
    "    img = trajectory[idx].reshape(28, 28).detach().cpu().numpy()  # Reshape tensor to 28x28 for visualization\n",
    "    axs[0, idx].imshow(img, cmap='gray')  # Plot as grayscale image\n",
    "    axs[0, idx].set_title(f'Trajectory Step {idx}')\n",
    "    axs[0, idx].axis('off')\n",
    "    \n",
    "    # Plot velocity tensors in the bottom row\n",
    "    if idx < len(velocities):\n",
    "        vel_img = velocities[idx].reshape(28, 28).detach().cpu().numpy()  # Reshape tensor to 28x28 for visualization\n",
    "        axs[1, idx].imshow(vel_img, cmap='gray')  # Plot as grayscale image\n",
    "        axs[1, idx].set_title(f'Velocity Step {idx}')\n",
    "        axs[1, idx].axis('off')\n",
    "    else:\n",
    "        axs[1, idx].axis('off')  # Hide axes for plots without corresponding velocity tensor\n",
    "\n",
    "plt.tight_layout()\n",
    "plt.show()\n"
   ]
  },
  {
   "cell_type": "code",
   "execution_count": null,
   "metadata": {},
   "outputs": [],
   "source": []
  },
  {
   "cell_type": "code",
   "execution_count": null,
   "metadata": {},
   "outputs": [],
   "source": []
  }
 ],
 "metadata": {
  "kernelspec": {
   "display_name": "torch",
   "language": "python",
   "name": "python3"
  },
  "language_info": {
   "codemirror_mode": {
    "name": "ipython",
    "version": 3
   },
   "file_extension": ".py",
   "mimetype": "text/x-python",
   "name": "python",
   "nbconvert_exporter": "python",
   "pygments_lexer": "ipython3",
   "version": "3.9.18"
  },
  "orig_nbformat": 4
 },
 "nbformat": 4,
 "nbformat_minor": 2
}
