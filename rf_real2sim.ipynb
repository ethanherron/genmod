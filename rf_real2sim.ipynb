{
 "cells": [
  {
   "cell_type": "code",
   "execution_count": 1,
   "metadata": {},
   "outputs": [],
   "source": [
    "import torch, os\n",
    "import torch.nn.functional as F\n",
    "import matplotlib.pyplot as plt\n",
    "from tqdm import tqdm\n",
    "from einops import repeat\n",
    "\n",
    "from modules.networks.unet import UNetModel\n",
    "\n",
    "os.environ[\"CUDA_VISIBLE_DEVICES\"] = \"1\"  # Use only the first GPU\n",
    "use_cuda = torch.cuda.is_available()\n",
    "device = torch.device(\"cuda\" if use_cuda else \"cpu\")\n",
    "\n",
    "# replace with your own dataset and dataloader\n",
    "# train_dataset = \n",
    "\n",
    "# train_loader = \n",
    "\n",
    "def pad(tensor):\n",
    "    return repeat(tensor, 'b -> b 1 1 1')"
   ]
  },
  {
   "cell_type": "code",
   "execution_count": 2,
   "metadata": {},
   "outputs": [],
   "source": [
    "class RectifiedFlow():\n",
    "    def __init__(self, model=None, device=None, num_steps=10):\n",
    "        self.device = device\n",
    "        self.model = model.to(self.device)\n",
    "        self.N = num_steps\n",
    "        \n",
    "    def get_train_tuple(self, x0=None, x1=None):\n",
    "        # randomly sample timesteps for training - timesteps are analogous to \n",
    "        # points along the linear interpolation of x0 and x1.\n",
    "        t = torch.rand((x0.shape[0])).to(self.device)\n",
    "        t = F.sigmoid(t)\n",
    "        \n",
    "        # find interpolated x i.e., x_t\n",
    "        x_t = pad(t) * x1 + (1. - pad(t)) * x0\n",
    "        \n",
    "        # find our ground truth target value (velocity) we want our network to\n",
    "        # approximate. This velocity term is the time derivative of the linear \n",
    "        # interpolation above. ie dX_t/dt = d(t*x1 + (1-t)*x0)/dt\n",
    "        velocity = x1 - x0\n",
    "        \n",
    "        return x_t, t, velocity\n",
    "    \n",
    "    def rectified_flow_loss(self, x0, x1):\n",
    "        '''\n",
    "        Loss function for rectified flow model.\n",
    "\n",
    "        x0: input tensor of shape (batch_size, channels, height, width) Real Images\n",
    "        x1: input tensor of shape (batch_size, channels, height, width) Sim Images\n",
    "        \n",
    "        output: loss value we will optimize params of self.model with.\n",
    "        '''\n",
    "        # initialize x0 and x1 and send to device\n",
    "        x0 = x0.to(self.device)\n",
    "        x1 = x1.to(self.device)\n",
    "        \n",
    "        # get inputs (x_t and t) for network and velocity value for loss function.\n",
    "        xt, t, velocity = self.get_train_tuple(x0, x1)\n",
    "        \n",
    "        # make velocity prediction with network\n",
    "        velocity_hat = self.model(xt, t)\n",
    "        \n",
    "        # compute loss between prediction and velocity and return\n",
    "        return F.mse_loss(velocity_hat, velocity)\n",
    "        \n",
    "    @torch.no_grad()\n",
    "    def sample_ode(self, x0=None, N=None):\n",
    "        # initialize number of timesteps in ode solver\n",
    "        if N is None:\n",
    "            N = self.N\n",
    "            \n",
    "        # initialize delta t\n",
    "        dt = 1./N\n",
    "        \n",
    "        # initialize x for solver\n",
    "        x = x0.detach().clone().to(self.device)\n",
    "        \n",
    "        # Euler method integration scheme\n",
    "        for i in range(N):\n",
    "            # init timesteps and send to device\n",
    "            t = torch.ones((x0.shape[0])) * i / N\n",
    "            t = t.to(self.device)\n",
    "            \n",
    "            #make velocity prediction\n",
    "            velocity = self.model(x, t)\n",
    "            \n",
    "            #update x_t+1\n",
    "            x = x.detach().clone() + velocity * dt\n",
    "            \n",
    "        return x"
   ]
  },
  {
   "cell_type": "code",
   "execution_count": 6,
   "metadata": {},
   "outputs": [],
   "source": [
    "def train_rectified_flow(data_loader, rectified_flow, opt):\n",
    "    rectified_flow.model.train()\n",
    "    running_loss = 0.0\n",
    "    for data in data_loader:\n",
    "        x0, x1 = data\n",
    "        loss = rectified_flow.rectified_flow_loss(x1, x0)\n",
    "        \n",
    "        loss.backward()\n",
    "        opt.step()\n",
    "        opt.zero_grad()\n",
    "        running_loss += loss.item()\n",
    "    avg_loss = running_loss / len(data_loader)\n",
    "    return avg_loss"
   ]
  },
  {
   "cell_type": "code",
   "execution_count": 7,
   "metadata": {},
   "outputs": [
    {
     "name": "stdout",
     "output_type": "stream",
     "text": [
      "Number of parameters:  3607873\n"
     ]
    },
    {
     "name": "stderr",
     "output_type": "stream",
     "text": [
      " 50%|█████     | 1/2 [00:31<00:31, 31.13s/it]"
     ]
    },
    {
     "name": "stdout",
     "output_type": "stream",
     "text": [
      "loss from epoch  0 :  0.08503996425486625\n"
     ]
    },
    {
     "name": "stderr",
     "output_type": "stream",
     "text": [
      "100%|██████████| 2/2 [01:01<00:00, 30.80s/it]"
     ]
    },
    {
     "name": "stdout",
     "output_type": "stream",
     "text": [
      "loss from epoch  1 :  0.08467258681008157\n"
     ]
    },
    {
     "name": "stderr",
     "output_type": "stream",
     "text": [
      "\n"
     ]
    }
   ],
   "source": [
    "# Init all of our models\n",
    "model = UNetModel()\n",
    "RF = RectifiedFlow(model, device)\n",
    "\n",
    "print(\"Number of parameters: \", sum(p.numel() for p in model.parameters()))\n",
    "\n",
    "opt = torch.optim.Adam(model.parameters(), lr=1e-4)\n",
    "\n",
    "for i in tqdm(range(2)):\n",
    "    loss_rec = train_rectified_flow(train_loader, RF, opt)\n",
    "    print('loss from epoch ', i, ': ', loss_rec)\n",
    "    "
   ]
  },
  {
   "cell_type": "code",
   "execution_count": null,
   "metadata": {},
   "outputs": [],
   "source": []
  }
 ],
 "metadata": {
  "kernelspec": {
   "display_name": "torch",
   "language": "python",
   "name": "python3"
  },
  "language_info": {
   "codemirror_mode": {
    "name": "ipython",
    "version": 3
   },
   "file_extension": ".py",
   "mimetype": "text/x-python",
   "name": "python",
   "nbconvert_exporter": "python",
   "pygments_lexer": "ipython3",
   "version": "3.9.18"
  },
  "orig_nbformat": 4
 },
 "nbformat": 4,
 "nbformat_minor": 2
}
