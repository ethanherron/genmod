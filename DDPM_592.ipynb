{
 "cells": [
  {
   "cell_type": "code",
   "execution_count": 20,
   "metadata": {},
   "outputs": [],
   "source": [
    "import torch, os\n",
    "import torch.nn as nn\n",
    "import torch.nn.functional as F\n",
    "import matplotlib.pyplot as plt\n",
    "from tqdm import tqdm\n",
    "from einops import rearrange, repeat\n",
    "import copy\n",
    "import numpy as np\n",
    "from torchvision import transforms\n",
    "from torchvision.datasets import MNIST\n",
    "\n",
    "from modules.networks.unet import UNetModel\n",
    "\n",
    "os.environ[\"CUDA_VISIBLE_DEVICES\"] = \"1\"  # Use only the first GPU\n",
    "use_cuda = torch.cuda.is_available()\n",
    "device = torch.device(\"cuda\" if use_cuda else \"cpu\")\n",
    "\n",
    "tf = transforms.Compose([transforms.ToTensor()]) # mnist is already normalised 0 to 1\n",
    "train_dataset = MNIST(\"/data/edherron/data/MNIST\", train=True, download=False, transform=tf)\n",
    "\n",
    "train_loader = torch.utils.data.DataLoader(train_dataset,\n",
    "                                           batch_size=256,\n",
    "                                           shuffle=True,\n",
    "                                           num_workers=1\n",
    "                                           )\n",
    "\n",
    "def pad(tensor):\n",
    "    return repeat(tensor, 'b -> b 1 1 1')"
   ]
  },
  {
   "cell_type": "code",
   "execution_count": 21,
   "metadata": {},
   "outputs": [],
   "source": [
    "class DiffusionModel(nn.Module):\n",
    "    def __init__(self, model, device, num_timesteps=1000):\n",
    "        super().__init__()\n",
    "        self.device = device\n",
    "        self.model = model.to(self.device)\n",
    "        self.N = num_timesteps\n",
    "        \n",
    "        self.betas = self.linear_beta_schedule(self.N)\n",
    "        \n",
    "        self.beta_schedule = self.register_ddpm_schedules(self.betas)\n",
    "        \n",
    "        for k, v in self.beta_schedule.items():\n",
    "            self.register_buffer(k, v.to(self.device))\n",
    "        \n",
    "    def linear_beta_schedule(self, timesteps):\n",
    "        \"\"\"\n",
    "        linear schedule, proposed in original ddpm paper\n",
    "        \"\"\"\n",
    "        scale = 1000 / timesteps\n",
    "        beta_start = scale * 0.0015\n",
    "        beta_end = scale * 0.0155\n",
    "        return torch.linspace(beta_start, beta_end, timesteps, dtype = torch.float32)\n",
    "    \n",
    "    def register_ddpm_schedules(self, betas):\n",
    "        alphas = 1. - betas\n",
    "        alphas_cumprod = torch.cumprod(alphas, dim=0)\n",
    "        alphas_cumprod_prev = F.pad(alphas_cumprod[:-1], (1,0), value = 1.)\n",
    "        return {\n",
    "            'alphas': alphas,\n",
    "            'alphas_cumprod': alphas_cumprod,\n",
    "            'alphas_cumprod_prev': alphas_cumprod_prev,\n",
    "            'sqrt_alphas_cumprod': torch.sqrt(alphas_cumprod),\n",
    "            'sqrt_one_minus_alphas_cumprod': torch.sqrt(1. - alphas_cumprod),\n",
    "            'log_one_minus_alphas_cumprod': torch.log(1. - alphas_cumprod),\n",
    "            'sqrt_recip_alphas_cumprod': torch.sqrt(1. / alphas_cumprod),\n",
    "            'sqrt_recipm1_alphas_cumprod': torch.sqrt(1. / alphas_cumprod - 1.)\n",
    "        }\n",
    "        \n",
    "    def sample_forward_diffusion(self, x, t, noise):\n",
    "        x_t = (\n",
    "            self.sqrt_alphas_cumprod[t, None, None] * x\n",
    "            + self.sqrt_one_minus_alphas_cumprod[t, None, None] * noise\n",
    "        )\n",
    "        return x_t\n",
    "    \n",
    "    def get_train_tuple(self, batch):\n",
    "        x1 = batch.to(self.device)\n",
    "        x0 = torch.randn_like(x1).to(self.device)\n",
    "        t = torch.randint(1, self.N, (x1.shape[0],1)).to(self.device).long()\n",
    "        \n",
    "        xt = self.sample_forward_diffusion(x1, t, x0).to(self.device)\n",
    "        \n",
    "        return xt, t, x0\n",
    "    \n",
    "    def diffusion_model_loss(self, batch):\n",
    "        xt, t, x0 = self.get_train_tuple(batch)\n",
    "        \n",
    "        x0_prediction = self.model(xt, t.squeeze() / self.N)\n",
    "        \n",
    "        loss = F.mse_loss(x0, x0_prediction)\n",
    "        \n",
    "        return loss\n",
    "    \n",
    "    @torch.no_grad()\n",
    "    def reverse_diffusion_step(self, x_start, eps, timestep, timestep_next, eta):\n",
    "        noise = torch.randn_like(x_start).to(self.device)\n",
    "        alpha = self.alphas_cumprod[timestep]\n",
    "        alpha_next = self.alphas_cumprod[timestep_next]\n",
    "        sigma = eta * ((1 - alpha / alpha_next) * (1 - alpha_next) / (1 - alpha)).sqrt()\n",
    "        c = (1 - alpha_next - sigma ** 2).sqrt()\n",
    "        return x_start * alpha_next.sqrt() + c * eps + sigma * noise\n",
    "\n",
    "    \n",
    "    @torch.no_grad()\n",
    "    def sample_sde(self, batch, eta=1., num_inference_steps=None, inversion_strength=None, return_all_timesteps=False):\n",
    "        '''\n",
    "        DDIM sampling strategy for inference.\n",
    "        If num_inference_steps == number of training steps AND eta=1 then this is equivalent to \n",
    "        the original DDPM reverse diffusion process\n",
    "        '''\n",
    "        def get_x_0_hat(x_t, eps, t):\n",
    "            '''\n",
    "            get predicted final image from current image, x_t, and predicted noise, \\epsilon_{\\theta}(x_t, t).\n",
    "            '''\n",
    "            return (\n",
    "                self.sqrt_recip_alphas_cumprod[t] * x_t - \n",
    "                self.sqrt_recipm1_alphas_cumprod[t] * eps\n",
    "            )\n",
    "            \n",
    "        if num_inference_steps is None:\n",
    "            num_inference_steps = self.N\n",
    "            \n",
    "        timesteps = torch.linspace(-1, self.N - 1, steps = num_inference_steps + 1)\n",
    "        timesteps = list(reversed(timesteps.int().tolist()))\n",
    "        time_pairs = list(zip(timesteps[:-1], timesteps[1:]))\n",
    "        \n",
    "        x_i = torch.randn_like(batch).to(self.device)\n",
    "        imgs = [x_i]\n",
    "        for time, time_next in tqdm(time_pairs, desc='sampling loop time step'):\n",
    "            if inversion_strength is not None and time > round(inversion_strength * self.N):\n",
    "                continue\n",
    "\n",
    "            t_is = torch.tensor([time / self.N]).to(self.device)\n",
    "            t_is = t_is.repeat(batch.size(0))\n",
    "            \n",
    "            eps = self.model(x_i, t_is)\n",
    "            x_start = get_x_0_hat(x_i, eps, time)\n",
    "            \n",
    "            if time_next < 0:\n",
    "                img = x_start\n",
    "                imgs.append(img)\n",
    "                continue\n",
    "            \n",
    "            x_i = self.reverse_diffusion_step(x_start, eps, time, time_next, eta)\n",
    "            imgs.append(x_i)\n",
    "            \n",
    "        ret = img if not return_all_timesteps else torch.stack(imgs, dim = 1)      \n",
    "        \n",
    "        return ret"
   ]
  },
  {
   "cell_type": "code",
   "execution_count": 22,
   "metadata": {},
   "outputs": [],
   "source": [
    "def train_diffusion_model(data_loader, diffusion_model, opt, device):\n",
    "    diffusion_model.model.train()\n",
    "    running_loss = 0.0\n",
    "    for data in data_loader:\n",
    "        x1, _ = data\n",
    "        x1 = x1.to(device)\n",
    "        \n",
    "        loss = diffusion_model.diffusion_model_loss(x1)\n",
    "        \n",
    "        loss.backward()\n",
    "        opt.step()\n",
    "        opt.zero_grad()\n",
    "        running_loss += loss.item()\n",
    "    avg_loss = running_loss / len(data_loader)\n",
    "    return avg_loss"
   ]
  },
  {
   "cell_type": "code",
   "execution_count": 23,
   "metadata": {},
   "outputs": [
    {
     "name": "stdout",
     "output_type": "stream",
     "text": [
      "Number of parameters:  3607873\n"
     ]
    },
    {
     "name": "stderr",
     "output_type": "stream",
     "text": [
      " 10%|█         | 1/10 [00:30<04:35, 30.66s/it]"
     ]
    },
    {
     "name": "stdout",
     "output_type": "stream",
     "text": [
      "loss from epoch  0 :  0.30638152955377357\n"
     ]
    },
    {
     "name": "stderr",
     "output_type": "stream",
     "text": [
      " 20%|██        | 2/10 [01:01<04:06, 30.80s/it]"
     ]
    },
    {
     "name": "stdout",
     "output_type": "stream",
     "text": [
      "loss from epoch  1 :  0.019375035963318448\n"
     ]
    },
    {
     "name": "stderr",
     "output_type": "stream",
     "text": [
      " 30%|███       | 3/10 [01:32<03:37, 31.01s/it]"
     ]
    },
    {
     "name": "stdout",
     "output_type": "stream",
     "text": [
      "loss from epoch  2 :  0.01586703016482135\n"
     ]
    },
    {
     "name": "stderr",
     "output_type": "stream",
     "text": [
      " 40%|████      | 4/10 [02:04<03:08, 31.36s/it]"
     ]
    },
    {
     "name": "stdout",
     "output_type": "stream",
     "text": [
      "loss from epoch  3 :  0.015260628836744644\n"
     ]
    },
    {
     "name": "stderr",
     "output_type": "stream",
     "text": [
      " 50%|█████     | 5/10 [02:37<02:38, 31.75s/it]"
     ]
    },
    {
     "name": "stdout",
     "output_type": "stream",
     "text": [
      "loss from epoch  4 :  0.01472900944979901\n"
     ]
    },
    {
     "name": "stderr",
     "output_type": "stream",
     "text": [
      " 60%|██████    | 6/10 [03:09<02:08, 32.08s/it]"
     ]
    },
    {
     "name": "stdout",
     "output_type": "stream",
     "text": [
      "loss from epoch  5 :  0.014273841552277828\n"
     ]
    },
    {
     "name": "stderr",
     "output_type": "stream",
     "text": [
      " 70%|███████   | 7/10 [03:42<01:37, 32.36s/it]"
     ]
    },
    {
     "name": "stdout",
     "output_type": "stream",
     "text": [
      "loss from epoch  6 :  0.013573538531806874\n"
     ]
    },
    {
     "name": "stderr",
     "output_type": "stream",
     "text": [
      " 80%|████████  | 8/10 [04:15<01:05, 32.59s/it]"
     ]
    },
    {
     "name": "stdout",
     "output_type": "stream",
     "text": [
      "loss from epoch  7 :  0.013284055103963993\n"
     ]
    },
    {
     "name": "stderr",
     "output_type": "stream",
     "text": [
      " 90%|█████████ | 9/10 [04:48<00:32, 32.73s/it]"
     ]
    },
    {
     "name": "stdout",
     "output_type": "stream",
     "text": [
      "loss from epoch  8 :  0.012911408065639911\n"
     ]
    },
    {
     "name": "stderr",
     "output_type": "stream",
     "text": [
      "100%|██████████| 10/10 [05:21<00:00, 32.19s/it]"
     ]
    },
    {
     "name": "stdout",
     "output_type": "stream",
     "text": [
      "loss from epoch  9 :  0.012721095903915293\n"
     ]
    },
    {
     "name": "stderr",
     "output_type": "stream",
     "text": [
      "\n"
     ]
    }
   ],
   "source": [
    "# Init all of our models\n",
    "DM = DiffusionModel(UNetModel(), device)\n",
    "\n",
    "print(\"Number of parameters: \", sum(p.numel() for p in DM.model.parameters()))\n",
    "\n",
    "opt = torch.optim.Adam(DM.model.parameters(), lr=1e-4)\n",
    "\n",
    "for i in tqdm(range(10)):\n",
    "    loss_rec = train_diffusion_model(train_loader, DM, opt, device)\n",
    "    print('loss from epoch ', i, ': ', loss_rec)\n",
    "    "
   ]
  },
  {
   "cell_type": "code",
   "execution_count": 25,
   "metadata": {},
   "outputs": [
    {
     "name": "stdout",
     "output_type": "stream",
     "text": [
      "<class 'torch.Tensor'>\n"
     ]
    }
   ],
   "source": [
    "print(type(trajectory))"
   ]
  },
  {
   "cell_type": "code",
   "execution_count": 26,
   "metadata": {},
   "outputs": [
    {
     "data": {
      "text/plain": [
       "torch.Size([1, 1001, 1, 28, 28])"
      ]
     },
     "execution_count": 26,
     "metadata": {},
     "output_type": "execute_result"
    }
   ],
   "source": [
    "trajectory.shape"
   ]
  },
  {
   "cell_type": "code",
   "execution_count": 27,
   "metadata": {},
   "outputs": [
    {
     "name": "stderr",
     "output_type": "stream",
     "text": [
      "sampling loop time step:   0%|          | 0/1000 [00:00<?, ?it/s]"
     ]
    },
    {
     "name": "stderr",
     "output_type": "stream",
     "text": [
      "sampling loop time step: 100%|██████████| 1000/1000 [00:17<00:00, 58.75it/s]\n"
     ]
    },
    {
     "data": {
      "image/png": "[encoded data removed]",
      "text/plain": [
       "<Figure size 2000x200 with 11 Axes>"
      ]
     },
     "metadata": {},
     "output_type": "display_data"
    }
   ],
   "source": [
    "batch = torch.ones((1, 1, 28, 28))\n",
    "trajectory = DM.sample_sde(batch, return_all_timesteps=True)\n",
    "\n",
    "# Assuming `data_list` is your list of tensors\n",
    "fig, axs = plt.subplots(1, 11, figsize=(20, 2))  # Adjust figsize as needed\n",
    "\n",
    "for i, ax in enumerate(axs.flat):\n",
    "    idx = i * 100  # Every 100th element\n",
    "    if idx < len(trajectory):\n",
    "        img = trajectory[0,idx, 0].detach().cpu().numpy()  # Reshape tensor to 28x28 for visualization\n",
    "        ax.imshow(img, cmap='gray')  # Plot as grayscale image\n",
    "        ax.set_title(f'Index {idx}')\n",
    "        ax.axis('off')\n",
    "    else:\n",
    "        ax.axis('off')  # Hide axes for plots beyond the list length\n",
    "\n",
    "plt.tight_layout()\n",
    "plt.show()\n"
   ]
  },
  {
   "cell_type": "code",
   "execution_count": null,
   "metadata": {},
   "outputs": [],
   "source": []
  }
 ],
 "metadata": {
  "kernelspec": {
   "display_name": "torch",
   "language": "python",
   "name": "python3"
  },
  "language_info": {
   "codemirror_mode": {
    "name": "ipython",
    "version": 3
   },
   "file_extension": ".py",
   "mimetype": "text/x-python",
   "name": "python",
   "nbconvert_exporter": "python",
   "pygments_lexer": "ipython3",
   "version": "3.9.18"
  },
  "orig_nbformat": 4
 },
 "nbformat": 4,
 "nbformat_minor": 2
}
