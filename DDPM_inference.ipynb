{
 "cells": [
  {
   "cell_type": "code",
   "execution_count": 8,
   "id": "a897da07-2be4-4dae-ab9c-f7e49b6604d3",
   "metadata": {},
   "outputs": [],
   "source": [
    "import torch, os\n",
    "import torch.nn.functional as F\n",
    "import lightning as pl\n",
    "from einops import rearrange\n",
    "import matplotlib.pyplot as plt\n",
    "from tqdm import tqdm\n",
    "\n",
    "from torchvision.utils import save_image, make_grid\n",
    "from torchvision import transforms\n",
    "from torchvision.datasets import MNIST\n",
    "\n",
    "from modules.trainers.DDPM import DDPM"
   ]
  },
  {
   "cell_type": "code",
   "execution_count": 2,
   "id": "dfeadcde-96f6-45f7-baf5-71249bf3ceab",
   "metadata": {},
   "outputs": [
    {
     "data": {
      "text/plain": [
       "DDPM(\n",
       "  (nn_model): UViT(\n",
       "    (down1): UnetDown(\n",
       "      (model): Sequential(\n",
       "        (0): ResidualBlock(\n",
       "          (residual_block): Sequential(\n",
       "            (0): Conv2d(1, 1, kernel_size=(3, 3), stride=(1, 1), padding=(1, 1))\n",
       "            (1): LeakyReLU(negative_slope=0.2, inplace=True)\n",
       "            (2): InstanceNorm2d(1, eps=1e-05, momentum=0.1, affine=False, track_running_stats=False)\n",
       "          )\n",
       "        )\n",
       "        (1): Conv2d(1, 64, kernel_size=(3, 3), stride=(2, 2), padding=(1, 1))\n",
       "        (2): LeakyReLU(negative_slope=0.2, inplace=True)\n",
       "        (3): GroupNorm(8, 64, eps=1e-05, affine=True)\n",
       "      )\n",
       "    )\n",
       "    (patch_to_embedding): Sequential(\n",
       "      (0): Rearrange('b c h w -> b c (h w)', h=14, w=14)\n",
       "      (1): Linear(in_features=196, out_features=64, bias=True)\n",
       "    )\n",
       "    (time_embedding): Sequential(\n",
       "      (0): EmbedFC(\n",
       "        (model): Sequential(\n",
       "          (0): Linear(in_features=1, out_features=64, bias=True)\n",
       "          (1): GELU(approximate='none')\n",
       "          (2): Linear(in_features=64, out_features=64, bias=True)\n",
       "        )\n",
       "      )\n",
       "      (1): Rearrange('b d -> b d ()')\n",
       "    )\n",
       "    (dropout): Dropout(p=0.0, inplace=False)\n",
       "    (transformer): Transformer(\n",
       "      (layers): ModuleList(\n",
       "        (0): ModuleList(\n",
       "          (0): PreNorm(\n",
       "            (norm): LayerNorm((64,), eps=1e-05, elementwise_affine=True)\n",
       "            (fn): Attention(\n",
       "              (attend): Softmax(dim=-1)\n",
       "              (dropout): Dropout(p=0.0, inplace=False)\n",
       "              (to_q): Linear(in_features=64, out_features=112, bias=False)\n",
       "              (to_kv): Linear(in_features=64, out_features=224, bias=False)\n",
       "              (to_out): Sequential(\n",
       "                (0): Linear(in_features=112, out_features=64, bias=True)\n",
       "                (1): Dropout(p=0.0, inplace=False)\n",
       "              )\n",
       "            )\n",
       "          )\n",
       "          (1): PreNorm(\n",
       "            (norm): LayerNorm((64,), eps=1e-05, elementwise_affine=True)\n",
       "            (fn): FeedForward(\n",
       "              (net): Sequential(\n",
       "                (0): Linear(in_features=64, out_features=256, bias=True)\n",
       "                (1): LeakyReLU(negative_slope=0.01)\n",
       "                (2): Dropout(p=0.0, inplace=False)\n",
       "                (3): Linear(in_features=256, out_features=64, bias=True)\n",
       "                (4): Dropout(p=0.0, inplace=False)\n",
       "              )\n",
       "            )\n",
       "          )\n",
       "        )\n",
       "        (1): ModuleList(\n",
       "          (0): PreNorm(\n",
       "            (norm): LayerNorm((64,), eps=1e-05, elementwise_affine=True)\n",
       "            (fn): Attention(\n",
       "              (attend): Softmax(dim=-1)\n",
       "              (dropout): Dropout(p=0.0, inplace=False)\n",
       "              (to_q): Linear(in_features=64, out_features=112, bias=False)\n",
       "              (to_kv): Linear(in_features=64, out_features=224, bias=False)\n",
       "              (to_out): Sequential(\n",
       "                (0): Linear(in_features=112, out_features=64, bias=True)\n",
       "                (1): Dropout(p=0.0, inplace=False)\n",
       "              )\n",
       "            )\n",
       "          )\n",
       "          (1): PreNorm(\n",
       "            (norm): LayerNorm((64,), eps=1e-05, elementwise_affine=True)\n",
       "            (fn): FeedForward(\n",
       "              (net): Sequential(\n",
       "                (0): Linear(in_features=64, out_features=256, bias=True)\n",
       "                (1): LeakyReLU(negative_slope=0.01)\n",
       "                (2): Dropout(p=0.0, inplace=False)\n",
       "                (3): Linear(in_features=256, out_features=64, bias=True)\n",
       "                (4): Dropout(p=0.0, inplace=False)\n",
       "              )\n",
       "            )\n",
       "          )\n",
       "        )\n",
       "      )\n",
       "    )\n",
       "    (embedding_to_patch): Sequential(\n",
       "      (0): LayerNorm((64,), eps=1e-05, elementwise_affine=True)\n",
       "      (1): Linear(in_features=64, out_features=196, bias=True)\n",
       "      (2): Rearrange('b c (h w) -> b c h w', h=14, w=14)\n",
       "    )\n",
       "    (up1): UnetUp(\n",
       "      (model): Sequential(\n",
       "        (0): ResidualBlock(\n",
       "          (residual_block): Sequential(\n",
       "            (0): Conv2d(128, 128, kernel_size=(3, 3), stride=(1, 1), padding=(1, 1))\n",
       "            (1): LeakyReLU(negative_slope=0.2, inplace=True)\n",
       "            (2): InstanceNorm2d(128, eps=1e-05, momentum=0.1, affine=False, track_running_stats=False)\n",
       "          )\n",
       "        )\n",
       "        (1): ConvTranspose2d(128, 32, kernel_size=(2, 2), stride=(2, 2))\n",
       "        (2): LeakyReLU(negative_slope=0.2, inplace=True)\n",
       "        (3): GroupNorm(8, 32, eps=1e-05, affine=True)\n",
       "      )\n",
       "    )\n",
       "    (final_block): Sequential(\n",
       "      (0): Conv2d(33, 16, kernel_size=(3, 3), stride=(1, 1), padding=(1, 1))\n",
       "      (1): LeakyReLU(negative_slope=0.2, inplace=True)\n",
       "      (2): Conv2d(16, 1, kernel_size=(3, 3), stride=(1, 1), padding=(1, 1))\n",
       "    )\n",
       "  )\n",
       ")"
      ]
     },
     "execution_count": 2,
     "metadata": {},
     "output_type": "execute_result"
    }
   ],
   "source": [
    "model = DDPM.load_from_checkpoint('/home/exouser/genmod/genmod/m890eba3/checkpoints/last.ckpt')\n",
    "model.eval()"
   ]
  },
  {
   "cell_type": "code",
   "execution_count": 9,
   "id": "2748c6ee-9b30-4f7b-8d35-1c0dd572bcdf",
   "metadata": {},
   "outputs": [
    {
     "name": "stderr",
     "output_type": "stream",
     "text": [
      "100%|██████████| 999/999 [00:03<00:00, 278.51it/s]\n"
     ]
    },
    {
     "data": {
      "text/plain": [
       "<matplotlib.image.AxesImage at 0x7f6e50aa8550>"
      ]
     },
     "execution_count": 9,
     "metadata": {},
     "output_type": "execute_result"
    },
    {
     "data": {
      "image/png": "[encoded data removed]",
      "text/plain": [
       "<Figure size 640x480 with 1 Axes>"
      ]
     },
     "metadata": {},
     "output_type": "display_data"
    }
   ],
   "source": [
    "device = \"cuda:0\"\n",
    "\n",
    "torch.cuda.empty_cache()\n",
    "\n",
    "model = model.to(device)\n",
    "\n",
    "x_i = torch.randn((1,1,28,28)).to(device)  # x_T ~ N(0, 1), sample initial noise\n",
    "for i in tqdm(range(model.n_T-1, 0, -1)):\n",
    "    t_is = torch.tensor([i / model.n_T]).to(device)\n",
    "    t_is = t_is.repeat(x_i.size(0),1,1,1)\n",
    "\n",
    "    z = torch.randn_like(x_i).to(device) if i > 1 else 0\n",
    "\n",
    "    eps = model.nn_model(x_i, t_is)\n",
    "    x_i = (\n",
    "        model.oneover_sqrta[i] * (x_i - eps * model.mab_over_sqrtmab[i])\n",
    "        + model.sqrt_beta_t[i] * z\n",
    "    )\n",
    "\n",
    "x_0 = x_i.detach().cpu().numpy().squeeze().squeeze()\n",
    "plt.imshow(x_0)"
   ]
  },
  {
   "cell_type": "code",
   "execution_count": null,
   "id": "1c9b8363-d4b0-4e82-983b-c97844b9cbcd",
   "metadata": {},
   "outputs": [],
   "source": []
  }
 ],
 "metadata": {
  "kernelspec": {
   "display_name": "genmod",
   "language": "python",
   "name": "genmod"
  },
  "language_info": {
   "codemirror_mode": {
    "name": "ipython",
    "version": 3
   },
   "file_extension": ".py",
   "mimetype": "text/x-python",
   "name": "python",
   "nbconvert_exporter": "python",
   "pygments_lexer": "ipython3",
   "version": "3.10.9"
  }
 },
 "nbformat": 4,
 "nbformat_minor": 5
}
